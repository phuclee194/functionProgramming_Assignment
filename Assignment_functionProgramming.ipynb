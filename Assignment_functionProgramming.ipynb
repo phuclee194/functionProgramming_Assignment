{
 "cells": [
  {
   "cell_type": "code",
   "execution_count": 2,
   "metadata": {
    "ExecuteTime": {
     "end_time": "2019-07-08T08:45:25.532585Z",
     "start_time": "2019-07-08T08:45:25.521474Z"
    }
   },
   "outputs": [
    {
     "name": "stdout",
     "output_type": "stream",
     "text": [
      "1\n"
     ]
    }
   ],
   "source": [
    "###Task 2: \n",
    "###Find the greatest common divisor of a list of numbers using Reduce. Explain how the code works as well.\n",
    "###Explain how it works as well and how it relates to functional programing.\n",
    "\n",
    "from functools import reduce\n",
    "\n",
    "def gcd (a,b):\n",
    "    if a == 0:\n",
    "        return b\n",
    "    else:\n",
    "        return gcd(b%a,a) ###Euclid Algorithm\n",
    "\n",
    "list_a = [12,34,37,36,50]\n",
    "\n",
    "gcdp = reduce(lambda x,y: gcd(x,y), list_a)\n",
    "\n",
    "print (gcdp)\n",
    "    \n",
    "\n"
   ]
  },
  {
   "cell_type": "code",
   "execution_count": 3,
   "metadata": {
    "ExecuteTime": {
     "end_time": "2019-07-08T08:53:11.230305Z",
     "start_time": "2019-07-08T08:53:11.227504Z"
    }
   },
   "outputs": [],
   "source": [
    "###Task 4: In your own words, describe what is functional \n",
    "###programming and how you can write functional programming code in Python\n",
    "###(start here: https://docs.python.org/3/library/functional.html)\n",
    "\n",
    "###FP is a coding paradigm in which the building blocks are immutable values\n",
    "###and \" oure function: that share no state with other functions\"\n",
    "\n",
    "\n"
   ]
  },
  {
   "cell_type": "code",
   "execution_count": null,
   "metadata": {},
   "outputs": [],
   "source": [
    "### Task 1\n",
    "###Write functional programming code to apply a list of functions on a list of integers.\n",
    "###Explain how it works as well and how it relates to functional programing.\n",
    "\n",
    "\n",
    "\n"
   ]
  }
 ],
 "metadata": {
  "kernelspec": {
   "display_name": "Python 3",
   "language": "python",
   "name": "python3"
  },
  "language_info": {
   "codemirror_mode": {
    "name": "ipython",
    "version": 3
   },
   "file_extension": ".py",
   "mimetype": "text/x-python",
   "name": "python",
   "nbconvert_exporter": "python",
   "pygments_lexer": "ipython3",
   "version": "3.7.3"
  },
  "toc": {
   "base_numbering": 1,
   "nav_menu": {},
   "number_sections": true,
   "sideBar": true,
   "skip_h1_title": false,
   "title_cell": "Table of Contents",
   "title_sidebar": "Contents",
   "toc_cell": false,
   "toc_position": {},
   "toc_section_display": true,
   "toc_window_display": false
  },
  "varInspector": {
   "cols": {
    "lenName": 16,
    "lenType": 16,
    "lenVar": 40
   },
   "kernels_config": {
    "python": {
     "delete_cmd_postfix": "",
     "delete_cmd_prefix": "del ",
     "library": "var_list.py",
     "varRefreshCmd": "print(var_dic_list())"
    },
    "r": {
     "delete_cmd_postfix": ") ",
     "delete_cmd_prefix": "rm(",
     "library": "var_list.r",
     "varRefreshCmd": "cat(var_dic_list()) "
    }
   },
   "types_to_exclude": [
    "module",
    "function",
    "builtin_function_or_method",
    "instance",
    "_Feature"
   ],
   "window_display": false
  }
 },
 "nbformat": 4,
 "nbformat_minor": 2
}
