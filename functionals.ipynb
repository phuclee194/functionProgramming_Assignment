{
 "cells": [
  {
   "cell_type": "markdown",
   "metadata": {
    "colab_type": "text",
    "id": "QD-d7Nrw3oWe"
   },
   "source": [
    "## Applying a set of functions to a list of integers"
   ]
  },
  {
   "cell_type": "code",
   "execution_count": 1,
   "metadata": {
    "colab": {},
    "colab_type": "code",
    "id": "jp73p4r33oWf"
   },
   "outputs": [],
   "source": [
    "import math\n",
    "\n",
    "def add(input_list, factor):\n",
    "    return list(map(lambda x: x+factor,input_list))\n",
    "\n",
    "def subtract(input_list, factor):\n",
    "    return list(map(lambda x: x-factor, input_list))\n",
    "\n",
    "def multiply(input_list, factor):\n",
    "    return list(map(lambda x: x*factor, input_list))\n",
    "\n",
    "def divide(input_list, factor):\n",
    "    return list(map(lambda x: math.floor(x/factor), input_list))"
   ]
  },
  {
   "cell_type": "code",
   "execution_count": 13,
   "metadata": {
    "colab": {},
    "colab_type": "code",
    "id": "lRe7V1bb3oWi"
   },
   "outputs": [],
   "source": [
    "def apply_functions(input_list,function_list,factors):\n",
    "    \"\"\"\n",
    "    apply_functions:\n",
    "        For a set of inputs, apply a set of math functions \n",
    "        to each element and return the output of each \n",
    "        function\n",
    "    Args:\n",
    "        input_list: list of int\n",
    "        function_list: list of math functions\n",
    "        factors: list of secondary operands for the \n",
    "        functions\n",
    "    Returns:\n",
    "        ret_values:\n",
    "            list of list of ints containing the \n",
    "            values of each (function, operand) operation\n",
    "    \"\"\"\n",
    "    #ret_values = []\n",
    "    #for i in range(len(function_list)):\n",
    "    #    ret_values.append(function_list[i](input_list,factors[i]))\n",
    "    #return ret_values\n",
    "    if len(function_list)!=len(factors):\n",
    "        raise ValueError(\"list of factors must equal list of operations\")\n",
    "    \n",
    "    ret_values = list(map(lambda x: x[0](input_list,x[1]),list(zip(function_list,factors))))\n",
    "    return ret_values\n",
    "    "
   ]
  },
  {
   "cell_type": "code",
   "execution_count": 14,
   "metadata": {
    "colab": {
     "base_uri": "https://localhost:8080/",
     "height": 34
    },
    "colab_type": "code",
    "executionInfo": {
     "elapsed": 358,
     "status": "ok",
     "timestamp": 1562493499180,
     "user": {
      "displayName": "kofi baafi",
      "photoUrl": "https://lh4.googleusercontent.com/-MftWSVXZIkQ/AAAAAAAAAAI/AAAAAAAAAQc/OSFbGjp7_pw/s64/photo.jpg",
      "userId": "01448265396636205804"
     },
     "user_tz": -180
    },
    "id": "SmFnm2UI3oWl",
    "outputId": "43f52762-32c6-4258-9ed4-654d3b0ff41f"
   },
   "outputs": [
    {
     "data": {
      "text/plain": [
       "[[6, 7, 8, 9, 10, 11],\n",
       " [3, 4, 5, 6, 7, 8],\n",
       " [15, 18, 21, 24, 27, 30],\n",
       " [1, 1, 1, 2, 2, 2]]"
      ]
     },
     "execution_count": 14,
     "metadata": {},
     "output_type": "execute_result"
    }
   ],
   "source": [
    "factors=[1,2,3,4]\n",
    "input_list=[5,6,7,8,9,10]\n",
    "functions=[add,subtract,multiply,divide]\n",
    "\n",
    "ret_vals = apply_functions(input_list,functions,factors)\n",
    "ret_vals"
   ]
  },
  {
   "cell_type": "markdown",
   "metadata": {
    "colab_type": "text",
    "id": "c9pn7okr3oWp"
   },
   "source": [
    "## GCD with reduce"
   ]
  },
  {
   "cell_type": "code",
   "execution_count": 18,
   "metadata": {
    "colab": {},
    "colab_type": "code",
    "id": "d9w872Dv3oWq"
   },
   "outputs": [],
   "source": [
    "import functools\n",
    "import math\n",
    "\n",
    "def gcd(input_list):\n",
    "    return functools.reduce(lambda a,b: math.gcd(a,b),input_list)"
   ]
  },
  {
   "cell_type": "code",
   "execution_count": 19,
   "metadata": {
    "colab": {
     "base_uri": "https://localhost:8080/",
     "height": 34
    },
    "colab_type": "code",
    "executionInfo": {
     "elapsed": 399,
     "status": "ok",
     "timestamp": 1562493503006,
     "user": {
      "displayName": "kofi baafi",
      "photoUrl": "https://lh4.googleusercontent.com/-MftWSVXZIkQ/AAAAAAAAAAI/AAAAAAAAAQc/OSFbGjp7_pw/s64/photo.jpg",
      "userId": "01448265396636205804"
     },
     "user_tz": -180
    },
    "id": "MT0hr9aC3oWv",
    "outputId": "bf2d9781-a810-4b45-e8c4-501b726e144f"
   },
   "outputs": [
    {
     "name": "stdout",
     "output_type": "stream",
     "text": [
      "5\n"
     ]
    }
   ],
   "source": [
    "gcd_list=[10,15,30,45,60,90,120]\n",
    "print(gcd(gcd_list))"
   ]
  },
  {
   "cell_type": "markdown",
   "metadata": {
    "colab": {},
    "colab_type": "code",
    "id": "aXX3Qc3_3oWy"
   },
   "source": [
    "## Python GroupBy"
   ]
  },
  {
   "cell_type": "code",
   "execution_count": 57,
   "metadata": {},
   "outputs": [],
   "source": [
    "from itertools import groupby\n",
    "from functools import wraps"
   ]
  },
  {
   "cell_type": "code",
   "execution_count": 58,
   "metadata": {},
   "outputs": [],
   "source": [
    "def enforce_sorted_grouper(func):\n",
    "    @wraps(func)\n",
    "    def inner(**kwargs):\n",
    "        if not 'verify_sorted' in kwargs or not isinstance(kwargs['verify_sorted'],bool):\n",
    "            raise ValueError(\"Expected boolean variable 'verify_sort'\")\n",
    "        if(kwargs['verify_sorted']==False):\n",
    "            print(\"You did not enforce the order\")\n",
    "        else:\n",
    "            return func(**kwargs)\n",
    "    return inner\n",
    "\n",
    "@enforce_sorted_grouper\n",
    "def groupby_demonstrator(**kwargs):\n",
    "    if not 'input_list' in kwargs or not isinstance(kwargs['input_list'],list):\n",
    "        raise ValueError(\"Expected input list argument 'input_list'\")\n",
    "    if 'verify_sorted' not in kwargs or not isinstance(kwargs['verify_sorted'],bool):\n",
    "        raise ValueError(\"Expected boolean variable 'verify_sort'\")\n",
    "    input_list = kwargs['input_list']\n",
    "    verify_sorted = kwargs['verify_sorted']\n",
    "    \n",
    "    if verify_sorted==True:\n",
    "        input_list.sort(key=lambda x:x[0])\n",
    "    \n",
    "    grouped = groupby(input_list,lambda x: x[0])\n",
    "    for k,group in grouped:\n",
    "        for item in group:\n",
    "            print(f\"{k}: {item[1]}\")"
   ]
  },
  {
   "cell_type": "code",
   "execution_count": 62,
   "metadata": {},
   "outputs": [
    {
     "name": "stdout",
     "output_type": "stream",
     "text": [
      "when false\n",
      "You did not enforce the order\n",
      "\n",
      "\n",
      "when true\n",
      "animal: duck\n",
      "animal: bear\n",
      "plant: cactus\n",
      "vehicle: speed boat\n",
      "vehicle: school bus\n"
     ]
    }
   ],
   "source": [
    "things = [(\"vehicle\", \"speed boat\"),(\"animal\", \"duck\"), (\"animal\", \"bear\"), (\"plant\", \"cactus\"),(\"vehicle\", \"school bus\")]\n",
    "print(\"when false\")\n",
    "groupby_demonstrator(verify_sorted=False,input_list=things)\n",
    "\n",
    "print(\"\\n\\nwhen true\")\n",
    "groupby_demonstrator(verify_sorted=True,input_list=things)"
   ]
  },
  {
   "cell_type": "markdown",
   "metadata": {},
   "source": [
    "## On Functional Programming"
   ]
  },
  {
   "cell_type": "markdown",
   "metadata": {},
   "source": [
    "Funtional programming is the style of buiding programs based on pure functions. A pure function evaluates a computation and returns the result without mutating the input. The results of the function are only dependent on its arguments so calling the function for the same argument always produces the same result. Python offers the module **functools** which has operations for working on iterable data without changing the input data. It offers functions like:\n",
    "\n",
    "* **map**: which runs a function on all elements of the list\n",
    "* **reduce**: which applies a function cummulative\n",
    "* **filter**:adds element to a resulting list that satisfy a specified criterion"
   ]
  }
 ],
 "metadata": {
  "colab": {
   "name": "functionals.ipynb",
   "provenance": [],
   "version": "0.3.2"
  },
  "kernelspec": {
   "display_name": "Python 3",
   "language": "python",
   "name": "python3"
  },
  "language_info": {
   "codemirror_mode": {
    "name": "ipython",
    "version": 3
   },
   "file_extension": ".py",
   "mimetype": "text/x-python",
   "name": "python",
   "nbconvert_exporter": "python",
   "pygments_lexer": "ipython3",
   "version": "3.7.3"
  }
 },
 "nbformat": 4,
 "nbformat_minor": 2
}
